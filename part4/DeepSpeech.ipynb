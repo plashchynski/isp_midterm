{
 "cells": [
  {
   "cell_type": "code",
   "execution_count": 1,
   "metadata": {},
   "outputs": [],
   "source": [
    "# %pip install -r requirements.txt"
   ]
  },
  {
   "cell_type": "code",
   "execution_count": 2,
   "metadata": {},
   "outputs": [],
   "source": [
    "import os\n",
    "from unidecode import unidecode\n",
    "from tqdm.auto import tqdm\n",
    "\n",
    "import numpy as np\n",
    "import librosa as lr\n",
    "import noisereduce as nr\n",
    "from deepspeech import Model, version\n",
    "import tabulate\n"
   ]
  },
  {
   "cell_type": "markdown",
   "metadata": {},
   "source": [
    "Here's a list of sample files to process:\n",
    "\n",
    "[lang, audio_file, translation]"
   ]
  },
  {
   "cell_type": "code",
   "execution_count": 3,
   "metadata": {},
   "outputs": [],
   "source": [
    "FILES = [\n",
    "    # My sentences\n",
    "    [\"en\", \"Audio_Files/EN/your_sentence1.wav\", \"Where is my gate?\"],\n",
    "    [\"en\", \"Audio_Files/EN/your_sentence2.wav\", \"Which country is it?\"],\n",
    "\n",
    "    # Files provided by the coursework    \n",
    "    [\"en\", \"Audio_Files/EN/checkin.wav\", \"Where is the check-in desk?\"],\n",
    "    [\"en\", \"Audio_Files/EN/checkin_child.wav\", \"Where is the check-in desk?\"],\n",
    "    [\"en\", \"Audio_Files/EN/parents.wav\", \"I have lost my parents.\"],\n",
    "    [\"en\", \"Audio_Files/EN/parents_child.wav\", \"I have lost my parents.\"],\n",
    "    [\"en\", \"Audio_Files/EN/suitcase.wav\", \"Please, I have lost my suitcase.\"],\n",
    "    [\"en\", \"Audio_Files/EN/suitcase_child.wav\", \"Please, I have lost my suitcase.\"],\n",
    "    [\"en\", \"Audio_Files/EN/what_time.wav\", \"What time is my plane?\"],\n",
    "    [\"en\", \"Audio_Files/EN/what_time_child.wav\", \"What time is my plane?\"],\n",
    "    [\"en\", \"Audio_Files/EN/where.wav\", \"Where are the restaurants and shops?\"],\n",
    "    [\"en\", \"Audio_Files/EN/where_child.wav\", \"Where are the restaurants and shops?\"],\n",
    "\n",
    "    [\"it\", \"Audio_Files/IT/checkin_it.wav\", \"Dove e' il bancone?\"],\n",
    "    [\"it\", \"Audio_Files/IT/parents_it.wav\", \"Ho perso i miei genitori.\"],\n",
    "    [\"it\", \"Audio_Files/IT/suitcase_it.wav\", \"Per favore, ho perso la mia valigia.\"],\n",
    "    [\"it\", \"Audio_Files/IT/what_time_it.wav\", \"A che ora e’ il mio aereo?\"],\n",
    "    [\"it\", \"Audio_Files/IT/where_it.wav\", \"Dove sono i ristoranti e i negozi?\"],\n",
    "\n",
    "    [\"es\", \"Audio_Files/ES/checkin_es.wav\", \"¿Dónde están los mostradores?\"],\n",
    "    [\"es\", \"Audio_Files/ES/parents_es.wav\", \"He perdido a mis padres.\"],\n",
    "    [\"es\", \"Audio_Files/ES/suitcase_es.wav\", \"Por favor, he perdido mi maleta.\"],\n",
    "    [\"es\", \"Audio_Files/ES/what_time_es.wav\", \"¿A qué hora es mi avión?\"],\n",
    "    [\"es\", \"Audio_Files/ES/where_es.wav\", \"¿Dónde están los restaurantes y las tiendas?\"]\n",
    "]"
   ]
  },
  {
   "cell_type": "markdown",
   "metadata": {},
   "source": [
    "A language models for DeepSpeech:"
   ]
  },
  {
   "cell_type": "code",
   "execution_count": 4,
   "metadata": {},
   "outputs": [],
   "source": [
    "MODELS = [\n",
    "    [\"en\", \"Models/deepspeech-0.9.3-models.pbmm\", \"Models/deepspeech-0.9.3-models.scorer\"],\n",
    "    [\"it\", \"Models/output_graph_it.pbmm\", \"Models/kenlm_it.scorer\"],\n",
    "    [\"es\", \"Models/output_graph_es.pbmm\", \"Models/kenlm_es.scorer\"]\n",
    "]"
   ]
  },
  {
   "cell_type": "code",
   "execution_count": 5,
   "metadata": {},
   "outputs": [],
   "source": [
    "LANGUAGES = {\n",
    "    \"en\": \"English\",\n",
    "    \"it\": \"Italian\",\n",
    "    \"es\": \"Spanish\"\n",
    "}"
   ]
  },
  {
   "cell_type": "code",
   "execution_count": 6,
   "metadata": {},
   "outputs": [
    {
     "name": "stdout",
     "output_type": "stream",
     "text": [
      "Load language models...\n",
      "English\n",
      "Italian\n",
      "Spanish\n"
     ]
    }
   ],
   "source": [
    "print(\"Load language models...\")\n",
    "models = {}\n",
    "for lang, model, scorer in MODELS:\n",
    "    print(LANGUAGES[lang])\n",
    "    ds = Model(model)\n",
    "    ds.enableExternalScorer(scorer)\n",
    "    models[lang] = ds"
   ]
  },
  {
   "cell_type": "markdown",
   "metadata": {},
   "source": [
    "A function to calculate a Word error rate (WER):"
   ]
  },
  {
   "cell_type": "code",
   "execution_count": 7,
   "metadata": {},
   "outputs": [],
   "source": [
    "def calculate_wer(reference, hypothesis):\n",
    "    ref_words = reference.split()\n",
    "    ref_words_count = len(ref_words)\n",
    "\n",
    "    hyp_words = hypothesis.split()\n",
    "    hyp_words_count = len(hyp_words)\n",
    "\n",
    "    substitutions = sum(1 for ref, hyp in zip(ref_words, hyp_words) if ref != hyp)\n",
    "    deletions = ref_words_count - hyp_words_count\n",
    "    insertions = hyp_words_count - ref_words_count\n",
    "\n",
    "    # Calculating the Word Error Rate (WER)\n",
    "    wer = (substitutions + deletions + insertions) / ref_words_count\n",
    "    return wer"
   ]
  },
  {
   "cell_type": "markdown",
   "metadata": {},
   "source": [
    "To ensure accurate comparison between reference and hypothesis strings, it is necessary to normalize them, considering that different languages may have distinct conventions for character representation. The normalization process includes the following steps:\n",
    "\n",
    "* Converting all characters to lowercase.\n",
    "* Removing leading and trailing whitespace characters from the strings.\n",
    "* Eliminating all special characters except spaces."
   ]
  },
  {
   "cell_type": "code",
   "execution_count": 8,
   "metadata": {},
   "outputs": [],
   "source": [
    "def normalise_text(text):\n",
    "    text = unidecode(text).lower().strip()\n",
    "\n",
    "    # remove all special characters    \n",
    "    return(''.join(c for c in text if c.isalnum() or c == ' '))"
   ]
  },
  {
   "cell_type": "markdown",
   "metadata": {},
   "source": [
    "Run files through Mozilla DeepSpeech:"
   ]
  },
  {
   "cell_type": "code",
   "execution_count": 9,
   "metadata": {},
   "outputs": [
    {
     "data": {
      "application/vnd.jupyter.widget-view+json": {
       "model_id": "4483665f34604b0cb0b8f0cc29b2f20e",
       "version_major": 2,
       "version_minor": 0
      },
      "text/plain": [
       "HBox(children=(FloatProgress(value=0.0, max=22.0), HTML(value='')))"
      ]
     },
     "metadata": {},
     "output_type": "display_data"
    },
    {
     "name": "stdout",
     "output_type": "stream",
     "text": [
      "'Audio_Files/EN/your_sentence1.wav : 'where is my gate' vs 'or is my gate'\n",
      "'Audio_Files/EN/your_sentence2.wav : 'which country is it' vs 'which countries it'\n",
      "'Audio_Files/EN/checkin.wav : 'where is the checkin desk' vs 'where is the checking desk'\n",
      "'Audio_Files/EN/checkin_child.wav : 'where is the checkin desk' vs 'aristeides'\n",
      "'Audio_Files/EN/parents.wav : 'i have lost my parents' vs 'i had lost my parents'\n",
      "'Audio_Files/EN/parents_child.wav : 'i have lost my parents' vs 'i had lost my parents'\n",
      "'Audio_Files/EN/suitcase.wav : 'please i have lost my suitcase' vs 'please i have lost my suitcase'\n",
      "'Audio_Files/EN/suitcase_child.wav : 'please i have lost my suitcase' vs 'this i had lost my sakes'\n",
      "'Audio_Files/EN/what_time.wav : 'what time is my plane' vs 'what time is my plan'\n",
      "'Audio_Files/EN/what_time_child.wav : 'what time is my plane' vs 'what time is my plan'\n",
      "'Audio_Files/EN/where.wav : 'where are the restaurants and shops' vs 'where are the restaurants and shops'\n",
      "'Audio_Files/EN/where_child.wav : 'where are the restaurants and shops' vs 'where are the restaurants and shops'\n",
      "'Audio_Files/IT/checkin_it.wav : 'dove e il bancone' vs 'dove e il pancone'\n",
      "'Audio_Files/IT/parents_it.wav : 'ho perso i miei genitori' vs 'perso i miei genitori'\n",
      "'Audio_Files/IT/suitcase_it.wav : 'per favore ho perso la mia valigia' vs 'per fare ho perso la mia valigia'\n",
      "'Audio_Files/IT/what_time_it.wav : 'a che ora e il mio aereo' vs 'nero'\n",
      "'Audio_Files/IT/where_it.wav : 'dove sono i ristoranti e i negozi' vs 'dove sono ristoranti negozi'\n",
      "'Audio_Files/ES/checkin_es.wav : 'donde estan los mostradores' vs 'adande estan los mostradores'\n",
      "'Audio_Files/ES/parents_es.wav : 'he perdido a mis padres' vs 'he perdido a mis padres'\n",
      "'Audio_Files/ES/suitcase_es.wav : 'por favor he perdido mi maleta' vs 'por favor he perdido mi maleta'\n",
      "'Audio_Files/ES/what_time_es.wav : 'a que hora es mi avion' vs 'ahora es miedo'\n",
      "'Audio_Files/ES/where_es.wav : 'donde estan los restaurantes y las tiendas' vs 'adande estan los restaurantes en las tierras'\n",
      "\n"
     ]
    }
   ],
   "source": [
    "results = []\n",
    "\n",
    "for lang, audio_file, translation in tqdm(FILES):\n",
    "    ds = models[lang]\n",
    "    audio, sr = lr.load(audio_file, sr=ds.sampleRate())\n",
    "    \n",
    "    audio = (audio * 32767).astype(np.int16) # scale from -1 to 1 to +/-32767\n",
    "    hypothesis = ds.stt(audio)\n",
    "    \n",
    "    print(f\"'{audio_file} : '{normalise_text(translation)}' vs '{normalise_text(hypothesis)}'\")\n",
    "    \n",
    "    results.append([lang, audio_file, calculate_wer(normalise_text(translation), normalise_text(hypothesis))])"
   ]
  },
  {
   "cell_type": "markdown",
   "metadata": {},
   "source": [
    "Display a table with results:"
   ]
  },
  {
   "cell_type": "code",
   "execution_count": 10,
   "metadata": {},
   "outputs": [
    {
     "data": {
      "text/html": [
       "<table>\n",
       "<thead>\n",
       "<tr><th>Langugae  </th><th>File               </th><th>WER  </th></tr>\n",
       "</thead>\n",
       "<tbody>\n",
       "<tr><td>English   </td><td>your_sentence1.wav </td><td>25%  </td></tr>\n",
       "<tr><td>English   </td><td>your_sentence2.wav </td><td>50%  </td></tr>\n",
       "<tr><td>English   </td><td>checkin.wav        </td><td>20%  </td></tr>\n",
       "<tr><td>English   </td><td>checkin_child.wav  </td><td>20%  </td></tr>\n",
       "<tr><td>English   </td><td>parents.wav        </td><td>20%  </td></tr>\n",
       "<tr><td>English   </td><td>parents_child.wav  </td><td>20%  </td></tr>\n",
       "<tr><td>English   </td><td>suitcase.wav       </td><td>0%   </td></tr>\n",
       "<tr><td>English   </td><td>suitcase_child.wav </td><td>50%  </td></tr>\n",
       "<tr><td>English   </td><td>what_time.wav      </td><td>20%  </td></tr>\n",
       "<tr><td>English   </td><td>what_time_child.wav</td><td>20%  </td></tr>\n",
       "<tr><td>English   </td><td>where.wav          </td><td>0%   </td></tr>\n",
       "<tr><td>English   </td><td>where_child.wav    </td><td>0%   </td></tr>\n",
       "<tr><td>Italian   </td><td>checkin_it.wav     </td><td>25%  </td></tr>\n",
       "<tr><td>Italian   </td><td>parents_it.wav     </td><td>80%  </td></tr>\n",
       "<tr><td>Italian   </td><td>suitcase_it.wav    </td><td>14%  </td></tr>\n",
       "<tr><td>Italian   </td><td>what_time_it.wav   </td><td>14%  </td></tr>\n",
       "<tr><td>Italian   </td><td>where_it.wav       </td><td>29%  </td></tr>\n",
       "<tr><td>Spanish   </td><td>checkin_es.wav     </td><td>25%  </td></tr>\n",
       "<tr><td>Spanish   </td><td>parents_es.wav     </td><td>0%   </td></tr>\n",
       "<tr><td>Spanish   </td><td>suitcase_es.wav    </td><td>0%   </td></tr>\n",
       "<tr><td>Spanish   </td><td>what_time_es.wav   </td><td>50%  </td></tr>\n",
       "<tr><td>Spanish   </td><td>where_es.wav       </td><td>43%  </td></tr>\n",
       "</tbody>\n",
       "</table>"
      ],
      "text/plain": [
       "'<table>\\n<thead>\\n<tr><th>Langugae  </th><th>File               </th><th>WER  </th></tr>\\n</thead>\\n<tbody>\\n<tr><td>English   </td><td>your_sentence1.wav </td><td>25%  </td></tr>\\n<tr><td>English   </td><td>your_sentence2.wav </td><td>50%  </td></tr>\\n<tr><td>English   </td><td>checkin.wav        </td><td>20%  </td></tr>\\n<tr><td>English   </td><td>checkin_child.wav  </td><td>20%  </td></tr>\\n<tr><td>English   </td><td>parents.wav        </td><td>20%  </td></tr>\\n<tr><td>English   </td><td>parents_child.wav  </td><td>20%  </td></tr>\\n<tr><td>English   </td><td>suitcase.wav       </td><td>0%   </td></tr>\\n<tr><td>English   </td><td>suitcase_child.wav </td><td>50%  </td></tr>\\n<tr><td>English   </td><td>what_time.wav      </td><td>20%  </td></tr>\\n<tr><td>English   </td><td>what_time_child.wav</td><td>20%  </td></tr>\\n<tr><td>English   </td><td>where.wav          </td><td>0%   </td></tr>\\n<tr><td>English   </td><td>where_child.wav    </td><td>0%   </td></tr>\\n<tr><td>Italian   </td><td>checkin_it.wav     </td><td>25%  </td></tr>\\n<tr><td>Italian   </td><td>parents_it.wav     </td><td>80%  </td></tr>\\n<tr><td>Italian   </td><td>suitcase_it.wav    </td><td>14%  </td></tr>\\n<tr><td>Italian   </td><td>what_time_it.wav   </td><td>14%  </td></tr>\\n<tr><td>Italian   </td><td>where_it.wav       </td><td>29%  </td></tr>\\n<tr><td>Spanish   </td><td>checkin_es.wav     </td><td>25%  </td></tr>\\n<tr><td>Spanish   </td><td>parents_es.wav     </td><td>0%   </td></tr>\\n<tr><td>Spanish   </td><td>suitcase_es.wav    </td><td>0%   </td></tr>\\n<tr><td>Spanish   </td><td>what_time_es.wav   </td><td>50%  </td></tr>\\n<tr><td>Spanish   </td><td>where_es.wav       </td><td>43%  </td></tr>\\n</tbody>\\n</table>'"
      ]
     },
     "execution_count": 10,
     "metadata": {},
     "output_type": "execute_result"
    }
   ],
   "source": [
    "table_data = [\n",
    "    [\n",
    "        LANGUAGES[lang],\n",
    "        os.path.basename(audio_file),\n",
    "        \"{0:.0%}\".format(wer)\n",
    "    ]\n",
    "    for lang, audio_file, wer in results\n",
    "]\n",
    "\n",
    "table = tabulate.tabulate(table_data, tablefmt='html', headers=[\"Langugae\", \"File\", \"WER\"])\n",
    "table"
   ]
  },
  {
   "cell_type": "code",
   "execution_count": 11,
   "metadata": {},
   "outputs": [
    {
     "name": "stdout",
     "output_type": "stream",
     "text": [
      "Mean WER in English: 20%\n",
      "Mean WER in Italian: 32%\n",
      "Mean WER in Spanish: 24%\n"
     ]
    }
   ],
   "source": [
    "for code, lang in list(LANGUAGES.items()):\n",
    "    mean_wer = np.mean([r[2] for r in results if r[0] == code])\n",
    "    print(\"Mean WER in {}: {:.0%}\".format(lang, mean_wer))"
   ]
  },
  {
   "cell_type": "code",
   "execution_count": null,
   "metadata": {},
   "outputs": [],
   "source": []
  }
 ],
 "metadata": {
  "kernelspec": {
   "display_name": "Python 3",
   "language": "python",
   "name": "python3"
  },
  "language_info": {
   "codemirror_mode": {
    "name": "ipython",
    "version": 3
   },
   "file_extension": ".py",
   "mimetype": "text/x-python",
   "name": "python",
   "nbconvert_exporter": "python",
   "pygments_lexer": "ipython3",
   "version": "3.7.6"
  }
 },
 "nbformat": 4,
 "nbformat_minor": 4
}
