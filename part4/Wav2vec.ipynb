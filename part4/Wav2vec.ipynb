{
  "nbformat": 4,
  "nbformat_minor": 0,
  "metadata": {
    "colab": {
      "provenance": []
    },
    "kernelspec": {
      "name": "python3",
      "display_name": "Python 3"
    },
    "language_info": {
      "name": "python"
    },
    "widgets": {
      "application/vnd.jupyter.widget-state+json": {
        "5511dedfae9243d991c407e3e2fc2b90": {
          "model_module": "@jupyter-widgets/controls",
          "model_name": "HBoxModel",
          "model_module_version": "1.5.0",
          "state": {
            "_dom_classes": [],
            "_model_module": "@jupyter-widgets/controls",
            "_model_module_version": "1.5.0",
            "_model_name": "HBoxModel",
            "_view_count": null,
            "_view_module": "@jupyter-widgets/controls",
            "_view_module_version": "1.5.0",
            "_view_name": "HBoxView",
            "box_style": "",
            "children": [
              "IPY_MODEL_2a0539ec9e5c4c92894f06a91584d6dd",
              "IPY_MODEL_18c59faa8bae4c578e19841bbab9ef11",
              "IPY_MODEL_6d100dd40a16408288c3c9e63f5be125"
            ],
            "layout": "IPY_MODEL_0b8e93fef55243d9a8381cd81b8e6ab7"
          }
        },
        "2a0539ec9e5c4c92894f06a91584d6dd": {
          "model_module": "@jupyter-widgets/controls",
          "model_name": "HTMLModel",
          "model_module_version": "1.5.0",
          "state": {
            "_dom_classes": [],
            "_model_module": "@jupyter-widgets/controls",
            "_model_module_version": "1.5.0",
            "_model_name": "HTMLModel",
            "_view_count": null,
            "_view_module": "@jupyter-widgets/controls",
            "_view_module_version": "1.5.0",
            "_view_name": "HTMLView",
            "description": "",
            "description_tooltip": null,
            "layout": "IPY_MODEL_6caa6453d7ba41068426ee12c28bd3b5",
            "placeholder": "​",
            "style": "IPY_MODEL_04dbd3fb773a4f6bac03c77d2fddcf6e",
            "value": "100%"
          }
        },
        "18c59faa8bae4c578e19841bbab9ef11": {
          "model_module": "@jupyter-widgets/controls",
          "model_name": "FloatProgressModel",
          "model_module_version": "1.5.0",
          "state": {
            "_dom_classes": [],
            "_model_module": "@jupyter-widgets/controls",
            "_model_module_version": "1.5.0",
            "_model_name": "FloatProgressModel",
            "_view_count": null,
            "_view_module": "@jupyter-widgets/controls",
            "_view_module_version": "1.5.0",
            "_view_name": "ProgressView",
            "bar_style": "success",
            "description": "",
            "description_tooltip": null,
            "layout": "IPY_MODEL_ed9953e968b24547a24fcc0208f1bf38",
            "max": 12,
            "min": 0,
            "orientation": "horizontal",
            "style": "IPY_MODEL_48283a1a1cb74dc79efec5c8dc9afc3d",
            "value": 12
          }
        },
        "6d100dd40a16408288c3c9e63f5be125": {
          "model_module": "@jupyter-widgets/controls",
          "model_name": "HTMLModel",
          "model_module_version": "1.5.0",
          "state": {
            "_dom_classes": [],
            "_model_module": "@jupyter-widgets/controls",
            "_model_module_version": "1.5.0",
            "_model_name": "HTMLModel",
            "_view_count": null,
            "_view_module": "@jupyter-widgets/controls",
            "_view_module_version": "1.5.0",
            "_view_name": "HTMLView",
            "description": "",
            "description_tooltip": null,
            "layout": "IPY_MODEL_232dea092eb14381a28e5820b2dd5bc2",
            "placeholder": "​",
            "style": "IPY_MODEL_ae9362a558d34a3099907d42f99d5c74",
            "value": " 12/12 [00:08&lt;00:00,  1.38it/s]"
          }
        },
        "0b8e93fef55243d9a8381cd81b8e6ab7": {
          "model_module": "@jupyter-widgets/base",
          "model_name": "LayoutModel",
          "model_module_version": "1.2.0",
          "state": {
            "_model_module": "@jupyter-widgets/base",
            "_model_module_version": "1.2.0",
            "_model_name": "LayoutModel",
            "_view_count": null,
            "_view_module": "@jupyter-widgets/base",
            "_view_module_version": "1.2.0",
            "_view_name": "LayoutView",
            "align_content": null,
            "align_items": null,
            "align_self": null,
            "border": null,
            "bottom": null,
            "display": null,
            "flex": null,
            "flex_flow": null,
            "grid_area": null,
            "grid_auto_columns": null,
            "grid_auto_flow": null,
            "grid_auto_rows": null,
            "grid_column": null,
            "grid_gap": null,
            "grid_row": null,
            "grid_template_areas": null,
            "grid_template_columns": null,
            "grid_template_rows": null,
            "height": null,
            "justify_content": null,
            "justify_items": null,
            "left": null,
            "margin": null,
            "max_height": null,
            "max_width": null,
            "min_height": null,
            "min_width": null,
            "object_fit": null,
            "object_position": null,
            "order": null,
            "overflow": null,
            "overflow_x": null,
            "overflow_y": null,
            "padding": null,
            "right": null,
            "top": null,
            "visibility": null,
            "width": null
          }
        },
        "6caa6453d7ba41068426ee12c28bd3b5": {
          "model_module": "@jupyter-widgets/base",
          "model_name": "LayoutModel",
          "model_module_version": "1.2.0",
          "state": {
            "_model_module": "@jupyter-widgets/base",
            "_model_module_version": "1.2.0",
            "_model_name": "LayoutModel",
            "_view_count": null,
            "_view_module": "@jupyter-widgets/base",
            "_view_module_version": "1.2.0",
            "_view_name": "LayoutView",
            "align_content": null,
            "align_items": null,
            "align_self": null,
            "border": null,
            "bottom": null,
            "display": null,
            "flex": null,
            "flex_flow": null,
            "grid_area": null,
            "grid_auto_columns": null,
            "grid_auto_flow": null,
            "grid_auto_rows": null,
            "grid_column": null,
            "grid_gap": null,
            "grid_row": null,
            "grid_template_areas": null,
            "grid_template_columns": null,
            "grid_template_rows": null,
            "height": null,
            "justify_content": null,
            "justify_items": null,
            "left": null,
            "margin": null,
            "max_height": null,
            "max_width": null,
            "min_height": null,
            "min_width": null,
            "object_fit": null,
            "object_position": null,
            "order": null,
            "overflow": null,
            "overflow_x": null,
            "overflow_y": null,
            "padding": null,
            "right": null,
            "top": null,
            "visibility": null,
            "width": null
          }
        },
        "04dbd3fb773a4f6bac03c77d2fddcf6e": {
          "model_module": "@jupyter-widgets/controls",
          "model_name": "DescriptionStyleModel",
          "model_module_version": "1.5.0",
          "state": {
            "_model_module": "@jupyter-widgets/controls",
            "_model_module_version": "1.5.0",
            "_model_name": "DescriptionStyleModel",
            "_view_count": null,
            "_view_module": "@jupyter-widgets/base",
            "_view_module_version": "1.2.0",
            "_view_name": "StyleView",
            "description_width": ""
          }
        },
        "ed9953e968b24547a24fcc0208f1bf38": {
          "model_module": "@jupyter-widgets/base",
          "model_name": "LayoutModel",
          "model_module_version": "1.2.0",
          "state": {
            "_model_module": "@jupyter-widgets/base",
            "_model_module_version": "1.2.0",
            "_model_name": "LayoutModel",
            "_view_count": null,
            "_view_module": "@jupyter-widgets/base",
            "_view_module_version": "1.2.0",
            "_view_name": "LayoutView",
            "align_content": null,
            "align_items": null,
            "align_self": null,
            "border": null,
            "bottom": null,
            "display": null,
            "flex": null,
            "flex_flow": null,
            "grid_area": null,
            "grid_auto_columns": null,
            "grid_auto_flow": null,
            "grid_auto_rows": null,
            "grid_column": null,
            "grid_gap": null,
            "grid_row": null,
            "grid_template_areas": null,
            "grid_template_columns": null,
            "grid_template_rows": null,
            "height": null,
            "justify_content": null,
            "justify_items": null,
            "left": null,
            "margin": null,
            "max_height": null,
            "max_width": null,
            "min_height": null,
            "min_width": null,
            "object_fit": null,
            "object_position": null,
            "order": null,
            "overflow": null,
            "overflow_x": null,
            "overflow_y": null,
            "padding": null,
            "right": null,
            "top": null,
            "visibility": null,
            "width": null
          }
        },
        "48283a1a1cb74dc79efec5c8dc9afc3d": {
          "model_module": "@jupyter-widgets/controls",
          "model_name": "ProgressStyleModel",
          "model_module_version": "1.5.0",
          "state": {
            "_model_module": "@jupyter-widgets/controls",
            "_model_module_version": "1.5.0",
            "_model_name": "ProgressStyleModel",
            "_view_count": null,
            "_view_module": "@jupyter-widgets/base",
            "_view_module_version": "1.2.0",
            "_view_name": "StyleView",
            "bar_color": null,
            "description_width": ""
          }
        },
        "232dea092eb14381a28e5820b2dd5bc2": {
          "model_module": "@jupyter-widgets/base",
          "model_name": "LayoutModel",
          "model_module_version": "1.2.0",
          "state": {
            "_model_module": "@jupyter-widgets/base",
            "_model_module_version": "1.2.0",
            "_model_name": "LayoutModel",
            "_view_count": null,
            "_view_module": "@jupyter-widgets/base",
            "_view_module_version": "1.2.0",
            "_view_name": "LayoutView",
            "align_content": null,
            "align_items": null,
            "align_self": null,
            "border": null,
            "bottom": null,
            "display": null,
            "flex": null,
            "flex_flow": null,
            "grid_area": null,
            "grid_auto_columns": null,
            "grid_auto_flow": null,
            "grid_auto_rows": null,
            "grid_column": null,
            "grid_gap": null,
            "grid_row": null,
            "grid_template_areas": null,
            "grid_template_columns": null,
            "grid_template_rows": null,
            "height": null,
            "justify_content": null,
            "justify_items": null,
            "left": null,
            "margin": null,
            "max_height": null,
            "max_width": null,
            "min_height": null,
            "min_width": null,
            "object_fit": null,
            "object_position": null,
            "order": null,
            "overflow": null,
            "overflow_x": null,
            "overflow_y": null,
            "padding": null,
            "right": null,
            "top": null,
            "visibility": null,
            "width": null
          }
        },
        "ae9362a558d34a3099907d42f99d5c74": {
          "model_module": "@jupyter-widgets/controls",
          "model_name": "DescriptionStyleModel",
          "model_module_version": "1.5.0",
          "state": {
            "_model_module": "@jupyter-widgets/controls",
            "_model_module_version": "1.5.0",
            "_model_name": "DescriptionStyleModel",
            "_view_count": null,
            "_view_module": "@jupyter-widgets/base",
            "_view_module_version": "1.2.0",
            "_view_name": "StyleView",
            "description_width": ""
          }
        }
      }
    }
  },
  "cells": [
    {
      "cell_type": "code",
      "execution_count": 4,
      "metadata": {
        "colab": {
          "base_uri": "https://localhost:8080/"
        },
        "id": "-Rby3J-W2KFq",
        "outputId": "295a6f95-700f-4b66-ab75-4e7a995c55d2"
      },
      "outputs": [
        {
          "output_type": "stream",
          "name": "stdout",
          "text": [
            "Requirement already satisfied: transformers in /usr/local/lib/python3.10/dist-packages (4.30.2)\n",
            "Collecting unidecode\n",
            "  Downloading Unidecode-1.3.6-py3-none-any.whl (235 kB)\n",
            "\u001b[?25l     \u001b[90m━━━━━━━━━━━━━━━━━━━━━━━━━━━━━━━━━━━━━━━━\u001b[0m \u001b[32m0.0/235.9 kB\u001b[0m \u001b[31m?\u001b[0m eta \u001b[36m-:--:--\u001b[0m\r\u001b[2K     \u001b[90m━━━━━━━━━━━━━━━━━━━━━━━━━━━━━━━━━━━━━━\u001b[0m \u001b[32m235.9/235.9 kB\u001b[0m \u001b[31m11.9 MB/s\u001b[0m eta \u001b[36m0:00:00\u001b[0m\n",
            "\u001b[?25hRequirement already satisfied: tabulate in /usr/local/lib/python3.10/dist-packages (0.8.10)\n",
            "Requirement already satisfied: numpy in /usr/local/lib/python3.10/dist-packages (1.22.4)\n",
            "Requirement already satisfied: filelock in /usr/local/lib/python3.10/dist-packages (from transformers) (3.12.2)\n",
            "Requirement already satisfied: huggingface-hub<1.0,>=0.14.1 in /usr/local/lib/python3.10/dist-packages (from transformers) (0.16.4)\n",
            "Requirement already satisfied: packaging>=20.0 in /usr/local/lib/python3.10/dist-packages (from transformers) (23.1)\n",
            "Requirement already satisfied: pyyaml>=5.1 in /usr/local/lib/python3.10/dist-packages (from transformers) (6.0)\n",
            "Requirement already satisfied: regex!=2019.12.17 in /usr/local/lib/python3.10/dist-packages (from transformers) (2022.10.31)\n",
            "Requirement already satisfied: requests in /usr/local/lib/python3.10/dist-packages (from transformers) (2.27.1)\n",
            "Requirement already satisfied: tokenizers!=0.11.3,<0.14,>=0.11.1 in /usr/local/lib/python3.10/dist-packages (from transformers) (0.13.3)\n",
            "Requirement already satisfied: safetensors>=0.3.1 in /usr/local/lib/python3.10/dist-packages (from transformers) (0.3.1)\n",
            "Requirement already satisfied: tqdm>=4.27 in /usr/local/lib/python3.10/dist-packages (from transformers) (4.65.0)\n",
            "Requirement already satisfied: fsspec in /usr/local/lib/python3.10/dist-packages (from huggingface-hub<1.0,>=0.14.1->transformers) (2023.6.0)\n",
            "Requirement already satisfied: typing-extensions>=3.7.4.3 in /usr/local/lib/python3.10/dist-packages (from huggingface-hub<1.0,>=0.14.1->transformers) (4.7.1)\n",
            "Requirement already satisfied: urllib3<1.27,>=1.21.1 in /usr/local/lib/python3.10/dist-packages (from requests->transformers) (1.26.16)\n",
            "Requirement already satisfied: certifi>=2017.4.17 in /usr/local/lib/python3.10/dist-packages (from requests->transformers) (2023.5.7)\n",
            "Requirement already satisfied: charset-normalizer~=2.0.0 in /usr/local/lib/python3.10/dist-packages (from requests->transformers) (2.0.12)\n",
            "Requirement already satisfied: idna<4,>=2.5 in /usr/local/lib/python3.10/dist-packages (from requests->transformers) (3.4)\n",
            "Installing collected packages: unidecode\n",
            "Successfully installed unidecode-1.3.6\n"
          ]
        }
      ],
      "source": [
        "%pip install transformers unidecode tabulate numpy"
      ]
    },
    {
      "cell_type": "code",
      "source": [
        "import os\n",
        "from tqdm.auto import tqdm\n",
        "\n",
        "import soundfile\n",
        "import numpy as np\n",
        "from unidecode import unidecode\n",
        "from transformers import Wav2Vec2Processor, Wav2Vec2ForCTC\n",
        "import torch\n",
        "import tabulate\n",
        "import librosa"
      ],
      "metadata": {
        "id": "TQ9-iNmK2chI"
      },
      "execution_count": 18,
      "outputs": []
    },
    {
      "cell_type": "code",
      "source": [
        "FILES = [\n",
        "    # My sentences\n",
        "    [\"en\", \"Audio_Files/EN/your_sentence1.wav\", \"Where is my gate?\"],\n",
        "    [\"en\", \"Audio_Files/EN/your_sentence2.wav\", \"Which country is it?\"],\n",
        "\n",
        "    # Files provided by the coursework\n",
        "    [\"en\", \"Audio_Files/EN/checkin.wav\", \"Where is the check-in desk?\"],\n",
        "    [\"en\", \"Audio_Files/EN/checkin_child.wav\", \"Where is the check-in desk?\"],\n",
        "    [\"en\", \"Audio_Files/EN/parents.wav\", \"I have lost my parents.\"],\n",
        "    [\"en\", \"Audio_Files/EN/parents_child.wav\", \"I have lost my parents.\"],\n",
        "    [\"en\", \"Audio_Files/EN/suitcase.wav\", \"Please, I have lost my suitcase.\"],\n",
        "    [\"en\", \"Audio_Files/EN/suitcase_child.wav\", \"Please, I have lost my suitcase.\"],\n",
        "    [\"en\", \"Audio_Files/EN/what_time.wav\", \"What time is my plane?\"],\n",
        "    [\"en\", \"Audio_Files/EN/what_time_child.wav\", \"What time is my plane?\"],\n",
        "    [\"en\", \"Audio_Files/EN/where.wav\", \"Where are the restaurants and shops?\"],\n",
        "    [\"en\", \"Audio_Files/EN/where_child.wav\", \"Where are the restaurants and shops?\"],\n",
        "]"
      ],
      "metadata": {
        "id": "Zl0w_uPd4lp2"
      },
      "execution_count": 13,
      "outputs": []
    },
    {
      "cell_type": "code",
      "source": [
        "LANGUAGES = {\n",
        "    \"en\": \"English\",\n",
        "    \"it\": \"Italian\",\n",
        "    \"es\": \"Spanish\"\n",
        "}"
      ],
      "metadata": {
        "id": "I0y99M9D8U__"
      },
      "execution_count": 22,
      "outputs": []
    },
    {
      "cell_type": "code",
      "source": [
        "def calculate_wer(reference, hypothesis):\n",
        "    ref_words = reference.split()\n",
        "    ref_words_count = len(ref_words)\n",
        "\n",
        "    hyp_words = hypothesis.split()\n",
        "    hyp_words_count = len(hyp_words)\n",
        "\n",
        "    substitutions = sum(1 for ref, hyp in zip(ref_words, hyp_words) if ref != hyp)\n",
        "    deletions = ref_words_count - hyp_words_count\n",
        "    insertions = hyp_words_count - ref_words_count\n",
        "\n",
        "    # Calculating the Word Error Rate (WER)\n",
        "    wer = (substitutions + deletions + insertions) / ref_words_count\n",
        "    return wer"
      ],
      "metadata": {
        "id": "zU7T4My73yCE"
      },
      "execution_count": 8,
      "outputs": []
    },
    {
      "cell_type": "code",
      "source": [
        "def normalise_text(text):\n",
        "    text = unidecode(text).lower().strip()\n",
        "\n",
        "    # remove all special characters\n",
        "    return(''.join(c for c in text if c.isalnum() or c == ' '))"
      ],
      "metadata": {
        "id": "S9zLUJDi34K-"
      },
      "execution_count": 9,
      "outputs": []
    },
    {
      "cell_type": "code",
      "source": [
        "processor = Wav2Vec2Processor.from_pretrained(\"facebook/wav2vec2-base-960h\")\n",
        "model = Wav2Vec2ForCTC.from_pretrained(\"facebook/wav2vec2-base-960h\")"
      ],
      "metadata": {
        "colab": {
          "base_uri": "https://localhost:8080/"
        },
        "id": "WstWafRs370Q",
        "outputId": "c98a4696-6a86-4952-ad31-2552b4c69afa"
      },
      "execution_count": 10,
      "outputs": [
        {
          "output_type": "stream",
          "name": "stderr",
          "text": [
            "Some weights of Wav2Vec2ForCTC were not initialized from the model checkpoint at facebook/wav2vec2-base-960h and are newly initialized: ['wav2vec2.masked_spec_embed']\n",
            "You should probably TRAIN this model on a down-stream task to be able to use it for predictions and inference.\n"
          ]
        }
      ]
    },
    {
      "cell_type": "code",
      "source": [
        "results = []\n",
        "\n",
        "for lang, audio_file, translation in tqdm(FILES):\n",
        "      data, sr = soundfile.read(audio_file)\n",
        "      data = librosa.resample(data, orig_sr=sr, target_sr=16000)\n",
        "      inputs = processor(data, sampling_rate=16000, return_tensors=\"pt\")\n",
        "      with torch.no_grad():\n",
        "          y = model(**inputs)\n",
        "          logits = y.logits\n",
        "          ids = torch.argmax(logits, dim=-1)\n",
        "          hypothesis = processor.batch_decode(ids)[0]\n",
        "          print(f\"'{audio_file} : '{normalise_text(translation)}' vs '{normalise_text(hypothesis)}'\")\n",
        "          results.append([lang, audio_file, calculate_wer(normalise_text(translation), normalise_text(hypothesis))])"
      ],
      "metadata": {
        "colab": {
          "base_uri": "https://localhost:8080/",
          "height": 263,
          "referenced_widgets": [
            "5511dedfae9243d991c407e3e2fc2b90",
            "2a0539ec9e5c4c92894f06a91584d6dd",
            "18c59faa8bae4c578e19841bbab9ef11",
            "6d100dd40a16408288c3c9e63f5be125",
            "0b8e93fef55243d9a8381cd81b8e6ab7",
            "6caa6453d7ba41068426ee12c28bd3b5",
            "04dbd3fb773a4f6bac03c77d2fddcf6e",
            "ed9953e968b24547a24fcc0208f1bf38",
            "48283a1a1cb74dc79efec5c8dc9afc3d",
            "232dea092eb14381a28e5820b2dd5bc2",
            "ae9362a558d34a3099907d42f99d5c74"
          ]
        },
        "id": "mMkBVphk35uM",
        "outputId": "315a7544-316e-44ad-ea79-18fb54868b8a"
      },
      "execution_count": 21,
      "outputs": [
        {
          "output_type": "display_data",
          "data": {
            "text/plain": [
              "  0%|          | 0/12 [00:00<?, ?it/s]"
            ],
            "application/vnd.jupyter.widget-view+json": {
              "version_major": 2,
              "version_minor": 0,
              "model_id": "5511dedfae9243d991c407e3e2fc2b90"
            }
          },
          "metadata": {}
        },
        {
          "output_type": "stream",
          "name": "stdout",
          "text": [
            "'Audio_Files/EN/your_sentence1.wav : 'where is my gate' vs 'where is my gat'\n",
            "'Audio_Files/EN/your_sentence2.wav : 'which country is it' vs 'which country is it'\n",
            "'Audio_Files/EN/checkin.wav : 'where is the checkin desk' vs 'where is the checken desk'\n",
            "'Audio_Files/EN/checkin_child.wav : 'where is the checkin desk' vs 'where is the jackin guess'\n",
            "'Audio_Files/EN/parents.wav : 'i have lost my parents' vs 'i have lost my parenis'\n",
            "'Audio_Files/EN/parents_child.wav : 'i have lost my parents' vs 'have lost my parentts'\n",
            "'Audio_Files/EN/suitcase.wav : 'please i have lost my suitcase' vs 'please owi have lost my siccesse'\n",
            "'Audio_Files/EN/suitcase_child.wav : 'please i have lost my suitcase' vs 'dreas i lost my threet case'\n",
            "'Audio_Files/EN/what_time.wav : 'what time is my plane' vs 'what time is my playing'\n",
            "'Audio_Files/EN/what_time_child.wav : 'what time is my plane' vs 'wot tine is my gra'\n",
            "'Audio_Files/EN/where.wav : 'where are the restaurants and shops' vs 'where are the restaurats and shops'\n",
            "'Audio_Files/EN/where_child.wav : 'where are the restaurants and shops' vs 'warale restrats and shops'\n"
          ]
        }
      ]
    },
    {
      "cell_type": "code",
      "source": [
        "table_data = [\n",
        "    [\n",
        "        LANGUAGES[lang],\n",
        "        os.path.basename(audio_file),\n",
        "        \"{0:.0%}\".format(wer)\n",
        "    ]\n",
        "    for lang, audio_file, wer in results\n",
        "]\n",
        "\n",
        "table = tabulate.tabulate(table_data, tablefmt=\"grid\", headers=[\"Langugae\", \"File\", \"WER\"])\n",
        "print(table)"
      ],
      "metadata": {
        "colab": {
          "base_uri": "https://localhost:8080/"
        },
        "id": "vGi_CS4u4iak",
        "outputId": "62707640-7867-4e8c-9ae1-d5160c8e485d"
      },
      "execution_count": 23,
      "outputs": [
        {
          "output_type": "stream",
          "name": "stdout",
          "text": [
            "+------------+---------------------+-------+\n",
            "| Langugae   | File                | WER   |\n",
            "+============+=====================+=======+\n",
            "| English    | your_sentence1.wav  | 25%   |\n",
            "+------------+---------------------+-------+\n",
            "| English    | your_sentence2.wav  | 0%    |\n",
            "+------------+---------------------+-------+\n",
            "| English    | checkin.wav         | 20%   |\n",
            "+------------+---------------------+-------+\n",
            "| English    | checkin_child.wav   | 40%   |\n",
            "+------------+---------------------+-------+\n",
            "| English    | parents.wav         | 20%   |\n",
            "+------------+---------------------+-------+\n",
            "| English    | parents_child.wav   | 80%   |\n",
            "+------------+---------------------+-------+\n",
            "| English    | suitcase.wav        | 33%   |\n",
            "+------------+---------------------+-------+\n",
            "| English    | suitcase_child.wav  | 83%   |\n",
            "+------------+---------------------+-------+\n",
            "| English    | what_time.wav       | 20%   |\n",
            "+------------+---------------------+-------+\n",
            "| English    | what_time_child.wav | 60%   |\n",
            "+------------+---------------------+-------+\n",
            "| English    | where.wav           | 17%   |\n",
            "+------------+---------------------+-------+\n",
            "| English    | where_child.wav     | 67%   |\n",
            "+------------+---------------------+-------+\n"
          ]
        }
      ]
    },
    {
      "cell_type": "code",
      "source": [
        "mean_wer = np.mean([r[2] for r in results])\n",
        "print(\"Mean WER: {:.0%}\".format(mean_wer))"
      ],
      "metadata": {
        "colab": {
          "base_uri": "https://localhost:8080/"
        },
        "id": "Pemc9Aat8WHo",
        "outputId": "c4c88023-03e1-4634-daa1-2ce2e0531353"
      },
      "execution_count": 24,
      "outputs": [
        {
          "output_type": "stream",
          "name": "stdout",
          "text": [
            "Mean WER: 39%\n"
          ]
        }
      ]
    },
    {
      "cell_type": "code",
      "source": [],
      "metadata": {
        "id": "rjF-maji8ZC0"
      },
      "execution_count": null,
      "outputs": []
    }
  ]
}