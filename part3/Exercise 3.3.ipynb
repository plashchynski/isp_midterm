{
 "cells": [
  {
   "cell_type": "markdown",
   "metadata": {},
   "source": [
    "# Exercise 3.3"
   ]
  },
  {
   "cell_type": "markdown",
   "metadata": {},
   "source": [
    "BEGIN: I wrote this code personally without assistance. Any fragments taken from external sources will be explicitly marked."
   ]
  },
  {
   "cell_type": "markdown",
   "metadata": {},
   "source": [
    "This algorithm is an improved version of the LSB audio steganography algorithm provided in Exercise 3.1. The original algorithm creates recognizable noise in the modified audio file. This version aims to address this issue.\n",
    "\n",
    "To overcome this issue, I use a special message termination code, eliminating the need to modify all the last bits of all frames. As a result, only the small noisy section is confined to the beginning of the audio file, making it almost unnoticeable.\n",
    "\n",
    "Additionally, I incorporated a non-consecutive pattern of bits to store the message. This further enhances the difficulty of detecting the embedded message and makes the noise even more unnoticeable."
   ]
  },
  {
   "cell_type": "code",
   "execution_count": 7,
   "metadata": {},
   "outputs": [],
   "source": [
    "import wave"
   ]
  },
  {
   "cell_type": "markdown",
   "metadata": {},
   "source": [
    "Here is a special [End-of-transmission character](https://en.wikipedia.org/wiki/End-of-Transmission_character) to designate the end of the encoded string:"
   ]
  },
  {
   "cell_type": "code",
   "execution_count": 8,
   "metadata": {},
   "outputs": [],
   "source": [
    "MESSAGE_TERM_CODE = \"\\u0004\""
   ]
  },
  {
   "cell_type": "code",
   "execution_count": 9,
   "metadata": {},
   "outputs": [],
   "source": [
    "def hide_message(input_file, output_file, message):\n",
    "    with wave.open(input_file, 'rb') as input_wave:\n",
    "        # Convert audio file into bytes\n",
    "        frame_bytes = bytearray(list(input_wave.readframes(input_wave.getnframes())))\n",
    "\n",
    "        # add padding\n",
    "        message += MESSAGE_TERM_CODE\n",
    "\n",
    "        # convert secret to a list of bytes represented as a sting\n",
    "        bytes_strings = [bin(b).lstrip('0b').rjust(8, '0') for b in bytes(message, \"ascii\")]\n",
    "        bit_string = ''.join(bytes_strings)\n",
    "        bits = list(map(int, bit_string))\n",
    "\n",
    "        for i, bit in enumerate(bits):\n",
    "            # We write our bytes not in a row, but using unequal intervals (i*10+i)\n",
    "            # to eliminate any recognizable pattern\n",
    "            frame_bytes[i*10+i] = (frame_bytes[i] & 254) | bit\n",
    "\n",
    "        frame_modified = bytes(frame_bytes)\n",
    "\n",
    "        #  \n",
    "        with wave.open(output_file, 'wb') as output_wave:\n",
    "            output_wave.setparams(input_wave.getparams())\n",
    "            output_wave.writeframes(frame_modified)"
   ]
  },
  {
   "cell_type": "code",
   "execution_count": 10,
   "metadata": {},
   "outputs": [],
   "source": [
    "hide_message('sounds/Ex3_sound5.wav', 'song_embedded.wav', \"Father Christmas does not exist\")"
   ]
  },
  {
   "cell_type": "code",
   "execution_count": 11,
   "metadata": {},
   "outputs": [],
   "source": [
    "def unhide_message(input_file):\n",
    "    with wave.open(input_file, 'rb') as input_wave:\n",
    "        frame_bytes = bytearray(list(input_wave.readframes(input_wave.getnframes())))\n",
    "\n",
    "        extracted = []\n",
    "        for i in range(len(frame_bytes)):\n",
    "            # We write our bytes not in a row, but using unequal intervals (i*10+i)\n",
    "            # to eliminate any recognizable pattern\n",
    "            secret_message_index = (i*10+i)\n",
    "            if secret_message_index > len(frame_bytes)-1:\n",
    "                break\n",
    "\n",
    "            extracted.append(frame_bytes[secret_message_index] & 1)\n",
    "\n",
    "        message = \"\".join(chr(int(\"\".join(map(str, extracted[i:i+8])),2)) for i in range(0,len(extracted),8))\n",
    "\n",
    "        return(message.split(MESSAGE_TERM_CODE)[0])"
   ]
  },
  {
   "cell_type": "code",
   "execution_count": 12,
   "metadata": {},
   "outputs": [
    {
     "data": {
      "text/plain": [
       "'Father Christmas does not exist'"
      ]
     },
     "execution_count": 12,
     "metadata": {},
     "output_type": "execute_result"
    }
   ],
   "source": [
    "unhide_message('song_embedded.wav')"
   ]
  },
  {
   "cell_type": "markdown",
   "metadata": {},
   "source": [
    "END of my code"
   ]
  }
 ],
 "metadata": {
  "kernelspec": {
   "display_name": "Python 3",
   "language": "python",
   "name": "python3"
  },
  "language_info": {
   "codemirror_mode": {
    "name": "ipython",
    "version": 3
   },
   "file_extension": ".py",
   "mimetype": "text/x-python",
   "name": "python",
   "nbconvert_exporter": "python",
   "pygments_lexer": "ipython3",
   "version": "3.10.9"
  }
 },
 "nbformat": 4,
 "nbformat_minor": 4
}
